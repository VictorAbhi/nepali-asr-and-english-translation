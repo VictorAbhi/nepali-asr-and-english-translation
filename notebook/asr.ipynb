{
 "cells": [
  {
   "cell_type": "code",
   "execution_count": 1,
   "id": "92f8cf55",
   "metadata": {},
   "outputs": [],
   "source": [
    "import os\n",
    "\n",
    "input_file = \"../media/sample1.mp3\""
   ]
  },
  {
   "cell_type": "code",
   "execution_count": 2,
   "id": "6cd31a19",
   "metadata": {},
   "outputs": [],
   "source": [
    "# Prepare output audio file\n",
    "audio_file = \"\"\n",
    "\n",
    "# If video, extract audio\n",
    "if input_file.endswith((\".mp4\", \".mov\", \".mkv\", \".avi\")):\n",
    "    os.system(f\"ffmpeg -i \\\"{input_file}\\\" -ar 16000 -ac 1 -c:a pcm_s16le {audio_file}\")\n",
    "else:\n",
    "    audio_file = input_file  # Already an audio file"
   ]
  },
  {
   "cell_type": "code",
   "execution_count": 3,
   "id": "a75222d4",
   "metadata": {},
   "outputs": [
    {
     "name": "stderr",
     "output_type": "stream",
     "text": [
      "c:\\Users\\adabh\\Documents\\projects\\myproject\\.venv\\lib\\site-packages\\tqdm\\auto.py:21: TqdmWarning: IProgress not found. Please update jupyter and ipywidgets. See https://ipywidgets.readthedocs.io/en/stable/user_install.html\n",
      "  from .autonotebook import tqdm as notebook_tqdm\n"
     ]
    },
    {
     "name": "stdout",
     "output_type": "stream",
     "text": [
      "4.52.3\n"
     ]
    }
   ],
   "source": [
    "import transformers\n",
    "print(transformers.__version__) "
   ]
  },
  {
   "cell_type": "code",
   "execution_count": 4,
   "id": "e108216a",
   "metadata": {},
   "outputs": [
    {
     "name": "stderr",
     "output_type": "stream",
     "text": [
      "Loading checkpoint shards: 100%|██████████| 2/2 [00:00<00:00,  2.29it/s]\n"
     ]
    }
   ],
   "source": [
    "from transformers import AutoProcessor, AutoModelForSpeechSeq2Seq\n",
    "import torch\n",
    "import torchaudio\n",
    "\n",
    "device = \"cuda\" if torch.cuda.is_available() else \"cpu\"\n",
    "\n",
    "processor = AutoProcessor.from_pretrained(\"openai/whisper-large-v3\")\n",
    "model = AutoModelForSpeechSeq2Seq.from_pretrained(\"kiranpantha/whisper-large-v3-nepali\").to(device)"
   ]
  },
  {
   "cell_type": "code",
   "execution_count": 5,
   "id": "b3585f64",
   "metadata": {},
   "outputs": [],
   "source": [
    "import ffmpeg\n",
    "# Convert audio file to WAV format with 16kHz sample rate and mono channel\n",
    "def convert_audio_to_wav(input_file, output_file):\n",
    "    (\n",
    "        ffmpeg\n",
    "        .input(input_file)\n",
    "        .output(output_file, ar=16000, ac=1, format='wav')\n",
    "        .run(overwrite_output=True)\n",
    "    )\n",
    "# Convert the audio file to WAV format\n",
    "wav_file = \"../media/converted_audio.wav\"\n",
    "convert_audio_to_wav(audio_file, wav_file)"
   ]
  },
  {
   "cell_type": "code",
   "execution_count": 6,
   "id": "324cb380",
   "metadata": {},
   "outputs": [
    {
     "name": "stdout",
     "output_type": "stream",
     "text": [
      "Audio shape: (103680,), Sample rate: 16000\n"
     ]
    }
   ],
   "source": [
    "import librosa\n",
    "\n",
    "# Load audio using librosa\n",
    "audio, sr = librosa.load(\"../media/converted_audio.wav\", sr=16000)\n",
    "print(f\"Audio shape: {audio.shape}, Sample rate: {sr}\")"
   ]
  },
  {
   "cell_type": "code",
   "execution_count": 7,
   "id": "75283b90",
   "metadata": {},
   "outputs": [],
   "source": [
    "inputs = processor(audio, sampling_rate=16000, return_tensors=\"pt\").to(device)"
   ]
  },
  {
   "cell_type": "code",
   "execution_count": 9,
   "id": "f7526e9e",
   "metadata": {},
   "outputs": [
    {
     "name": "stdout",
     "output_type": "stream",
     "text": [
      "Transcription: बुधबहर कप्ताको मेरो मनपर्ने दिन हो।\n"
     ]
    }
   ],
   "source": [
    "# Transcribe (file path works here directly)\n",
    "with torch.no_grad():\n",
    "    generated_ids = model.generate(**inputs,attention_mask = inputs[\"attention_mask\"].to(device) if \"attention_mask\" in inputs else None)\n",
    "\n",
    "# Decode to text\n",
    "transcription = processor.batch_decode(generated_ids, skip_special_tokens=True)[0]\n",
    "print(\"Transcription:\", transcription)"
   ]
  },
  {
   "cell_type": "code",
   "execution_count": null,
   "id": "a93eb002",
   "metadata": {},
   "outputs": [
    {
     "name": "stdout",
     "output_type": "stream",
     "text": [
      "बुधवार हप्ताको मेरो मनपर्ने दिन हो\n",
      "Normalized WER: 0.333 (33.33%)\n"
     ]
    }
   ],
   "source": [
    "\n",
    "reference = \"बुधवार हप्ताको मेरो मनपर्ने दिन हो । \"\n",
    "import jiwer\n",
    "\n",
    "# Define normalization pipeline\n",
    "transformation = jiwer.Compose([\n",
    "    jiwer.ToLowerCase(),\n",
    "    jiwer.RemovePunctuation(),\n",
    "    jiwer.Strip(),\n",
    "    jiwer.RemoveMultipleSpaces(),\n",
    "])\n",
    "\n",
    "# Apply transformation and calculate WER\n",
    "normalized_reference = transformation(reference)\n",
    "normalized_hypothesis = transformation(transcription)\n",
    "\n",
    "error = jiwer.wer(normalized_reference, normalized_hypothesis)\n",
    "\n",
    "print(f\"Normalized WER: {error:.3f} ({error*100:.2f}%)\")"
   ]
  },
  {
   "cell_type": "code",
   "execution_count": null,
   "id": "cc554bde",
   "metadata": {},
   "outputs": [],
   "source": []
  }
 ],
 "metadata": {
  "kernelspec": {
   "display_name": ".venv",
   "language": "python",
   "name": "python3"
  },
  "language_info": {
   "codemirror_mode": {
    "name": "ipython",
    "version": 3
   },
   "file_extension": ".py",
   "mimetype": "text/x-python",
   "name": "python",
   "nbconvert_exporter": "python",
   "pygments_lexer": "ipython3",
   "version": "3.9.0"
  }
 },
 "nbformat": 4,
 "nbformat_minor": 5
}
